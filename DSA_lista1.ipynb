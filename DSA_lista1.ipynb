{
  "metadata": {
    "kernelspec": {
      "name": "python",
      "display_name": "Python (Pyodide)",
      "language": "python"
    },
    "language_info": {
      "codemirror_mode": {
        "name": "python",
        "version": 3
      },
      "file_extension": ".py",
      "mimetype": "text/x-python",
      "name": "python",
      "nbconvert_exporter": "python",
      "pygments_lexer": "ipython3",
      "version": "3.8"
    }
  },
  "nbformat_minor": 4,
  "nbformat": 4,
  "cells": [
    {
      "cell_type": "markdown",
      "source": "# <font color='blue'>Data Science Academy</font>\n\n## <font color='blue'>Fundamentos de Linguagem Python Para Análise de Dados e Data Science</font>\n\n## <font color='blue'>Capítulo 4 - Exercícios</font>",
      "metadata": {}
    },
    {
      "cell_type": "code",
      "source": "# Versão da Linguagem Python\nfrom platform import python_version\nprint('Versão da Linguagem Python Usada Neste Jupyter Notebook:', python_version())",
      "metadata": {
        "trusted": true
      },
      "execution_count": 1,
      "outputs": [
        {
          "name": "stdout",
          "text": "Versão da Linguagem Python Usada Neste Jupyter Notebook: 3.11.2\n",
          "output_type": "stream"
        }
      ]
    },
    {
      "cell_type": "markdown",
      "source": "## Exercícios ",
      "metadata": {}
    },
    {
      "cell_type": "code",
      "source": "# Exercício 1 - Imprima na tela os números de 1 a 10. Use uma lista para armazenar os números.",
      "metadata": {},
      "execution_count": 2,
      "outputs": []
    },
    {
      "cell_type": "code",
      "source": "lista = list(range(1,11))\nlista",
      "metadata": {
        "trusted": true
      },
      "execution_count": 2,
      "outputs": []
    },
    {
      "cell_type": "code",
      "source": "# Exercício 2 - Crie uma lista de 5 objetos e imprima na tela",
      "metadata": {},
      "execution_count": 3,
      "outputs": []
    },
    {
      "cell_type": "code",
      "source": "lista2 = ['A', 'B', 'C', 'D', 'E']\nlista2",
      "metadata": {
        "trusted": true
      },
      "execution_count": 4,
      "outputs": [
        {
          "execution_count": 4,
          "output_type": "execute_result",
          "data": {
            "text/plain": "['A', 'B', 'C', 'D', 'E']"
          },
          "metadata": {}
        }
      ]
    },
    {
      "cell_type": "code",
      "source": "# Exercício 3 - Crie duas strings e concatene as duas em uma terceira string",
      "metadata": {},
      "execution_count": 4,
      "outputs": []
    },
    {
      "cell_type": "code",
      "source": "string1 = 'banana'\nstring2 = 'maçã'\nstring3 = string1 + string2\nstring3",
      "metadata": {
        "trusted": true
      },
      "execution_count": 5,
      "outputs": [
        {
          "execution_count": 5,
          "output_type": "execute_result",
          "data": {
            "text/plain": "'bananamaçã'"
          },
          "metadata": {}
        }
      ]
    },
    {
      "cell_type": "code",
      "source": "# Exercício 4 - Crie uma tupla com os seguintes elementos: 1, 2, 2, 3, 4, 4, 4, 5 e depois utilize a função count do \n# objeto tupla para verificar quantas vezes o número 4 aparece na tupla",
      "metadata": {},
      "execution_count": 5,
      "outputs": []
    },
    {
      "cell_type": "code",
      "source": "num = (1,2,2,3,4,4,4,5)\nnum.count(4)",
      "metadata": {
        "trusted": true
      },
      "execution_count": 6,
      "outputs": [
        {
          "execution_count": 6,
          "output_type": "execute_result",
          "data": {
            "text/plain": "3"
          },
          "metadata": {}
        }
      ]
    },
    {
      "cell_type": "code",
      "source": "# Exercício 5 - Crie um dicionário vazio e imprima na tela",
      "metadata": {},
      "execution_count": 6,
      "outputs": []
    },
    {
      "cell_type": "code",
      "source": "dicionario = {}\ndicionario",
      "metadata": {
        "trusted": true
      },
      "execution_count": 7,
      "outputs": [
        {
          "execution_count": 7,
          "output_type": "execute_result",
          "data": {
            "text/plain": "{}"
          },
          "metadata": {}
        }
      ]
    },
    {
      "cell_type": "code",
      "source": "# Exercício 6 - Crie um dicionário com 3 chaves e 3 valores e imprima na tela",
      "metadata": {},
      "execution_count": 7,
      "outputs": []
    },
    {
      "cell_type": "code",
      "source": "dicionario2 = {'key1':1, 'key2':2, 'key3': 3}\ndicionario2",
      "metadata": {
        "trusted": true
      },
      "execution_count": 8,
      "outputs": [
        {
          "execution_count": 8,
          "output_type": "execute_result",
          "data": {
            "text/plain": "{'key1': 1, 'key2': 2, 'key3': 3}"
          },
          "metadata": {}
        }
      ]
    },
    {
      "cell_type": "code",
      "source": "# Exercício 7 - Adicione mais um elemento ao dicionário criado no exercício anterior e imprima na tela",
      "metadata": {},
      "execution_count": 8,
      "outputs": []
    },
    {
      "cell_type": "code",
      "source": "dicionario2['key4'] = 4\ndicionario2",
      "metadata": {
        "trusted": true
      },
      "execution_count": 9,
      "outputs": [
        {
          "execution_count": 9,
          "output_type": "execute_result",
          "data": {
            "text/plain": "{'key1': 1, 'key2': 2, 'key3': 3, 'key4': 4}"
          },
          "metadata": {}
        }
      ]
    },
    {
      "cell_type": "code",
      "source": "# Exercício 8 - Crie um dicionário com 3 chaves e 3 valores. \n# Um dos valores deve ser uma lista de 2 elementos numéricos. \n# Imprima o dicionário na tela.",
      "metadata": {},
      "execution_count": 9,
      "outputs": []
    },
    {
      "cell_type": "code",
      "source": "dicionario3 = {'key1':1, 'key2':2, 'key3':[3,4]}\ndicionario3",
      "metadata": {
        "trusted": true
      },
      "execution_count": 10,
      "outputs": [
        {
          "execution_count": 10,
          "output_type": "execute_result",
          "data": {
            "text/plain": "{'key1': 1, 'key2': 2, 'key3': [3, 4]}"
          },
          "metadata": {}
        }
      ]
    },
    {
      "cell_type": "code",
      "source": "# Exercício 9 - Crie uma lista de 4 elementos. O primeiro elemento deve ser uma string, \n# o segundo uma tupla de 2 elementos, o terceiro um dcionário com 2 chaves e 2 valores e \n# o quarto elemento um valor do tipo float.\n# Imprima a lista.",
      "metadata": {},
      "execution_count": 10,
      "outputs": []
    },
    {
      "cell_type": "code",
      "source": "lista3 = ['elem1', (2,3), {'key1':1, 'key2':2}, 8.5]\nlista3",
      "metadata": {
        "trusted": true
      },
      "execution_count": 11,
      "outputs": [
        {
          "execution_count": 11,
          "output_type": "execute_result",
          "data": {
            "text/plain": "['elem1', (2, 3), {'key1': 1, 'key2': 2}, 8.5]"
          },
          "metadata": {}
        }
      ]
    },
    {
      "cell_type": "code",
      "source": "# Exercício 10 - Considere a string abaixo. Imprima na tela apenas os caracteres da posição 1 a 18.\nfrase = 'Cientista de Dados é o profissional mais sexy do século XXI'",
      "metadata": {
        "trusted": true
      },
      "execution_count": 13,
      "outputs": []
    },
    {
      "cell_type": "code",
      "source": "frase[0:18]",
      "metadata": {
        "trusted": true
      },
      "execution_count": 15,
      "outputs": [
        {
          "execution_count": 15,
          "output_type": "execute_result",
          "data": {
            "text/plain": "'Cientista de Dados'"
          },
          "metadata": {}
        }
      ]
    },
    {
      "cell_type": "markdown",
      "source": "# Fim",
      "metadata": {}
    },
    {
      "cell_type": "markdown",
      "source": "### Obrigado\n\n### Visite o Blog da Data Science Academy - <a href=\"http://blog.dsacademy.com.br\">Blog DSA</a>",
      "metadata": {}
    }
  ]
}